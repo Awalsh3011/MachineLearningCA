{
  "nbformat": 4,
  "nbformat_minor": 0,
  "metadata": {
    "colab": {
      "provenance": []
    },
    "kernelspec": {
      "name": "python3",
      "display_name": "Python 3"
    },
    "language_info": {
      "name": "python"
    }
  },
  "cells": [
    {
      "cell_type": "markdown",
      "source": [
        "Data Preprocessing"
      ],
      "metadata": {
        "id": "yA6oHqQFbtFO"
      }
    },
    {
      "cell_type": "code",
      "source": [
        "import pandas as pd\n",
        "import numpy as np\n",
        "import matplotlib.pyplot as plt"
      ],
      "metadata": {
        "id": "viXR12HAbxKo"
      },
      "execution_count": null,
      "outputs": []
    },
    {
      "cell_type": "code",
      "source": [
        "theme1short  = pd.read_excel('Theme1short.xlsx')\n",
        "theme2short  = pd.read_excel('Theme2short.xlsx')\n",
        "theme3short  = pd.read_excel('Theme3short.xlsx')\n",
        "theme4short  = pd.read_excel('Theme4short.xlsx')\n",
        "theme5short  = pd.read_excel('Theme5short.xlsx')\n",
        "theme6short  = pd.read_excel('Theme6short.xlsx')\n",
        "theme7short  = pd.read_excel('Theme7short.xlsx')\n",
        "theme8short  = pd.read_excel('Theme8short.xlsx')\n",
        "theme9short  = pd.read_excel('Theme9short.xlsx')\n",
        "theme10short  = pd.read_excel('Theme10short.xlsx')\n",
        "theme11short  = pd.read_excel('Theme11short.xlsx')\n",
        "theme12short  = pd.read_excel('Theme12short.xlsx')\n",
        "theme13short  = pd.read_excel('Theme13short.xlsx')\n",
        "theme14short  = pd.read_excel('Theme14short.xlsx')\n",
        "theme15short  = pd.read_excel('Theme15short.xlsx')"
      ],
      "metadata": {
        "id": "k2lj0rBfb1eO"
      },
      "execution_count": null,
      "outputs": []
    },
    {
      "cell_type": "code",
      "source": [
        "theme1long  = pd.read_excel('Theme1long.xlsx')\n",
        "theme2long  = pd.read_excel('Theme2long.xlsx')\n",
        "theme3long  = pd.read_excel('Theme3long.xlsx')\n",
        "theme4long  = pd.read_excel('Theme4long.xlsx')\n",
        "theme5long  = pd.read_excel('Theme5long.xlsx')\n",
        "theme6long  = pd.read_excel('Theme6long.xlsx')\n",
        "theme7long  = pd.read_excel('Theme7long.xlsx')\n",
        "theme8long  = pd.read_excel('Theme8long.xlsx')\n",
        "theme9long  = pd.read_excel('Theme9long.xlsx')\n",
        "theme10long  = pd.read_excel('Theme10long.xlsx')\n",
        "theme11long  = pd.read_excel('Theme11long.xlsx')\n",
        "theme12long  = pd.read_excel('Theme12long.xlsx')\n",
        "theme13long  = pd.read_excel('Theme13long.xlsx')\n",
        "theme14long  = pd.read_excel('Theme14long.xlsx')\n",
        "theme15long  = pd.read_excel('Theme15long.xlsx')"
      ],
      "metadata": {
        "id": "67u1pqcgh8M0"
      },
      "execution_count": 201,
      "outputs": []
    },
    {
      "cell_type": "code",
      "source": [
        "def preprocess(d):\n",
        "    da = d.drop(['GUID', 'GEOGID', 'GEOGDESC'], axis=1)\n",
        "    df = da[da['Income:'] != '..']\n",
        "    df = df.astype({'Income:':'int'})\n",
        "    return(df)"
      ],
      "metadata": {
        "id": "YQXLGHKXkbcM"
      },
      "execution_count": null,
      "outputs": []
    },
    {
      "cell_type": "markdown",
      "source": [
        "Regression Analysis:"
      ],
      "metadata": {
        "id": "BDLXjcJSbx7h"
      }
    },
    {
      "cell_type": "markdown",
      "source": [
        "Theme1"
      ],
      "metadata": {
        "id": "dTwnR_YFrSmc"
      }
    },
    {
      "cell_type": "code",
      "source": [
        "df= preprocess(theme1short)"
      ],
      "metadata": {
        "id": "q9yPa1NvoJhL"
      },
      "execution_count": 202,
      "outputs": []
    },
    {
      "cell_type": "code",
      "execution_count": 203,
      "metadata": {
        "id": "o9CU8ubMa2zx"
      },
      "outputs": [],
      "source": [
        "from sklearn.linear_model import Ridge\n",
        "from sklearn.preprocessing import StandardScaler\n",
        "from sklearn.model_selection import train_test_split\n",
        "from sklearn.metrics import mean_squared_error"
      ]
    },
    {
      "cell_type": "code",
      "source": [
        "X = df.drop(['Income:'], axis=1) # independent variables\n",
        "y = df['Income:'] # dependent variable\n",
        "scaler = StandardScaler()\n",
        "X = scaler.fit_transform(X)\n",
        "X_train, X_test, y_train, y_test = train_test_split(X, y, test_size=0.3, random_state=42)"
      ],
      "metadata": {
        "id": "DfgVGAfSrAHF"
      },
      "execution_count": 204,
      "outputs": []
    },
    {
      "cell_type": "code",
      "source": [
        "from sklearn.linear_model import Lasso\n",
        "lasso = Lasso(alpha=1.0)\n",
        "lasso.fit(X_train, y_train)\n",
        "coef = lasso.coef_\n",
        "feature_importance = np.abs(coef)\n",
        "features = [(i, importance) for i, importance in enumerate(feature_importance)]\n",
        "features.sort(key=lambda x: x[1], reverse=True)\n",
        "# Printing top 5 \n",
        "for i in range(5):\n",
        "    print(\"Feature \", features[i][0])"
      ],
      "metadata": {
        "colab": {
          "base_uri": "https://localhost:8080/"
        },
        "id": "-npZ6WNRbJFm",
        "outputId": "cec0927f-e874-4ef2-acdd-5f5d190d8182"
      },
      "execution_count": 207,
      "outputs": [
        {
          "output_type": "stream",
          "name": "stdout",
          "text": [
            "Feature  69\n",
            "Feature  34\n",
            "Feature  116\n",
            "Feature  111\n",
            "Feature  105\n"
          ]
        },
        {
          "output_type": "stream",
          "name": "stderr",
          "text": [
            "/usr/local/lib/python3.9/dist-packages/sklearn/linear_model/_coordinate_descent.py:631: ConvergenceWarning: Objective did not converge. You might want to increase the number of iterations, check the scale of the features or consider increasing regularisation. Duality gap: 1.294e+10, tolerance: 6.789e+06\n",
            "  model = cd_fast.enet_coordinate_descent(\n"
          ]
        }
      ]
    },
    {
      "cell_type": "code",
      "source": [
        "df= preprocess(theme1long)"
      ],
      "metadata": {
        "id": "SChHKvmiiHzW"
      },
      "execution_count": 208,
      "outputs": []
    },
    {
      "cell_type": "code",
      "source": [
        "X = df.drop(['Income:'], axis=1) # independent variables\n",
        "y = df['Income:'] # dependent variable\n",
        "scaler = StandardScaler()\n",
        "X = scaler.fit_transform(X)\n",
        "X_train, X_test, y_train, y_test = train_test_split(X, y, test_size=0.3, random_state=42)"
      ],
      "metadata": {
        "id": "FiOIY-FViEZT"
      },
      "execution_count": 209,
      "outputs": []
    },
    {
      "cell_type": "code",
      "source": [
        "from sklearn.linear_model import Lasso\n",
        "lasso = Lasso(alpha=1.0)\n",
        "lasso.fit(X_train, y_train)\n",
        "coef = lasso.coef_\n",
        "feature_importance = np.abs(coef)\n",
        "features = [(i, importance) for i, importance in enumerate(feature_importance)]\n",
        "features.sort(key=lambda x: x[1], reverse=True)\n",
        "# Printing top 5 \n",
        "for i in range(5):\n",
        "    print(\"Feature \", features[i][0])"
      ],
      "metadata": {
        "colab": {
          "base_uri": "https://localhost:8080/"
        },
        "id": "oDCfAi-kiKVy",
        "outputId": "f949d646-efbd-4cd3-dc4b-05f729324fed"
      },
      "execution_count": 210,
      "outputs": [
        {
          "output_type": "stream",
          "name": "stdout",
          "text": [
            "Feature  106\n",
            "Feature  69\n",
            "Feature  34\n",
            "Feature  105\n",
            "Feature  110\n"
          ]
        },
        {
          "output_type": "stream",
          "name": "stderr",
          "text": [
            "/usr/local/lib/python3.9/dist-packages/sklearn/linear_model/_coordinate_descent.py:631: ConvergenceWarning: Objective did not converge. You might want to increase the number of iterations, check the scale of the features or consider increasing regularisation. Duality gap: 2.748e+10, tolerance: 9.951e+06\n",
            "  model = cd_fast.enet_coordinate_descent(\n"
          ]
        }
      ]
    },
    {
      "cell_type": "markdown",
      "source": [
        "Theme 2"
      ],
      "metadata": {
        "id": "_GX0Y7u6ruF4"
      }
    },
    {
      "cell_type": "code",
      "source": [
        "df= preprocess(theme2short)"
      ],
      "metadata": {
        "id": "znVvzNvnsNFj"
      },
      "execution_count": 212,
      "outputs": []
    },
    {
      "cell_type": "code",
      "source": [
        "X = df.drop(['Income:'], axis=1) # independent variables\n",
        "y = df['Income:'] # dependent variable\n",
        "scaler = StandardScaler()\n",
        "X = scaler.fit_transform(X)\n",
        "X_train, X_test, y_train, y_test = train_test_split(X, y, test_size=0.3, random_state=42)"
      ],
      "metadata": {
        "id": "RL_NLN_Bs4ax"
      },
      "execution_count": 213,
      "outputs": []
    },
    {
      "cell_type": "code",
      "source": [
        "from sklearn.linear_model import Lasso\n",
        "lasso = Lasso(alpha=1.0)\n",
        "lasso.fit(X_train, y_train)\n",
        "coef = lasso.coef_\n",
        "feature_importance = np.abs(coef)\n",
        "features = [(i, importance) for i, importance in enumerate(feature_importance)]\n",
        "features.sort(key=lambda x: x[1], reverse=True)\n",
        "# Printing top 5 \n",
        "for i in range(5):\n",
        "    print(\"Feature \", features[i][0])"
      ],
      "metadata": {
        "colab": {
          "base_uri": "https://localhost:8080/"
        },
        "id": "DE941H_qs51y",
        "outputId": "9b42f1e8-ac22-4c71-e367-84df6a940e24"
      },
      "execution_count": 214,
      "outputs": [
        {
          "output_type": "stream",
          "name": "stdout",
          "text": [
            "Feature  5\n",
            "Feature  39\n",
            "Feature  33\n",
            "Feature  22\n",
            "Feature  2\n"
          ]
        },
        {
          "output_type": "stream",
          "name": "stderr",
          "text": [
            "/usr/local/lib/python3.9/dist-packages/sklearn/linear_model/_coordinate_descent.py:631: ConvergenceWarning: Objective did not converge. You might want to increase the number of iterations, check the scale of the features or consider increasing regularisation. Duality gap: 1.798e+10, tolerance: 6.789e+06\n",
            "  model = cd_fast.enet_coordinate_descent(\n"
          ]
        }
      ]
    },
    {
      "cell_type": "code",
      "source": [
        "df= preprocess(theme2long)"
      ],
      "metadata": {
        "id": "lGeWdEL2lBA3"
      },
      "execution_count": 215,
      "outputs": []
    },
    {
      "cell_type": "code",
      "source": [
        "X = df.drop(['Income:'], axis=1) # independent variables\n",
        "y = df['Income:'] # dependent variable\n",
        "scaler = StandardScaler()\n",
        "X = scaler.fit_transform(X)\n",
        "X_train, X_test, y_train, y_test = train_test_split(X, y, test_size=0.3, random_state=42)"
      ],
      "metadata": {
        "id": "R6SXOsrwlEiY"
      },
      "execution_count": 220,
      "outputs": []
    },
    {
      "cell_type": "code",
      "source": [
        "from sklearn.linear_model import Lasso\n",
        "lasso = Lasso(alpha=1.0)\n",
        "lasso.fit(X_train, y_train)\n",
        "coef = lasso.coef_\n",
        "feature_importance = np.abs(coef)\n",
        "features = [(i, importance) for i, importance in enumerate(feature_importance)]\n",
        "features.sort(key=lambda x: x[1], reverse=True)\n",
        "# Printing top 5 \n",
        "for i in range(5):\n",
        "    print(\"Feature \", features[i][0])"
      ],
      "metadata": {
        "colab": {
          "base_uri": "https://localhost:8080/"
        },
        "id": "yOhBwP6WlF0z",
        "outputId": "1cf93de6-ec7b-4d3c-e332-19b4ec24caae"
      },
      "execution_count": 221,
      "outputs": [
        {
          "output_type": "stream",
          "name": "stdout",
          "text": [
            "Feature  50\n",
            "Feature  38\n",
            "Feature  44\n",
            "Feature  22\n",
            "Feature  25\n"
          ]
        },
        {
          "output_type": "stream",
          "name": "stderr",
          "text": [
            "/usr/local/lib/python3.9/dist-packages/sklearn/linear_model/_coordinate_descent.py:631: ConvergenceWarning: Objective did not converge. You might want to increase the number of iterations, check the scale of the features or consider increasing regularisation. Duality gap: 1.365e+10, tolerance: 6.789e+06\n",
            "  model = cd_fast.enet_coordinate_descent(\n"
          ]
        }
      ]
    },
    {
      "cell_type": "markdown",
      "source": [
        "Theme 3"
      ],
      "metadata": {
        "id": "8Vmo_9txrwCE"
      }
    },
    {
      "cell_type": "code",
      "source": [
        "df= preprocess(theme3short)"
      ],
      "metadata": {
        "id": "9IziGLp4sOTc"
      },
      "execution_count": 222,
      "outputs": []
    },
    {
      "cell_type": "code",
      "source": [
        "X = df.drop(['Income:'], axis=1) # independent variables\n",
        "y = df['Income:'] # dependent variable\n",
        "scaler = StandardScaler()\n",
        "X = scaler.fit_transform(X)\n",
        "X_train, X_test, y_train, y_test = train_test_split(X, y, test_size=0.3, random_state=42)"
      ],
      "metadata": {
        "id": "C0p_6T1ItXta"
      },
      "execution_count": 223,
      "outputs": []
    },
    {
      "cell_type": "code",
      "source": [
        "from sklearn.linear_model import Lasso\n",
        "lasso = Lasso(alpha=1.0)\n",
        "lasso.fit(X_train, y_train)\n",
        "coef = lasso.coef_\n",
        "feature_importance = np.abs(coef)\n",
        "features = [(i, importance) for i, importance in enumerate(feature_importance)]\n",
        "features.sort(key=lambda x: x[1], reverse=True)\n",
        "# Printing top 5 \n",
        "for i in range(5):\n",
        "    print(\"Feature \", features[i][0])"
      ],
      "metadata": {
        "colab": {
          "base_uri": "https://localhost:8080/"
        },
        "id": "lBIy9Op3tj5F",
        "outputId": "c2bc2615-a9a4-40e9-cca8-45a1b0e0b975"
      },
      "execution_count": 224,
      "outputs": [
        {
          "output_type": "stream",
          "name": "stdout",
          "text": [
            "Feature  50\n",
            "Feature  38\n",
            "Feature  44\n",
            "Feature  22\n",
            "Feature  25\n"
          ]
        },
        {
          "output_type": "stream",
          "name": "stderr",
          "text": [
            "/usr/local/lib/python3.9/dist-packages/sklearn/linear_model/_coordinate_descent.py:631: ConvergenceWarning: Objective did not converge. You might want to increase the number of iterations, check the scale of the features or consider increasing regularisation. Duality gap: 1.365e+10, tolerance: 6.789e+06\n",
            "  model = cd_fast.enet_coordinate_descent(\n"
          ]
        }
      ]
    },
    {
      "cell_type": "code",
      "source": [
        "df= preprocess(theme3long)\n",
        "X = df.drop(['Income:'], axis=1) # independent variables\n",
        "y = df['Income:'] # dependent variable\n",
        "scaler = StandardScaler()\n",
        "X = scaler.fit_transform(X)\n",
        "X_train, X_test, y_train, y_test = train_test_split(X, y, test_size=0.3, random_state=42)\n",
        "from sklearn.linear_model import Lasso\n",
        "lasso = Lasso(alpha=1.0)\n",
        "lasso.fit(X_train, y_train)\n",
        "coef = lasso.coef_\n",
        "feature_importance = np.abs(coef)\n",
        "features = [(i, importance) for i, importance in enumerate(feature_importance)]\n",
        "features.sort(key=lambda x: x[1], reverse=True)\n",
        "# Printing top 5 \n",
        "for i in range(5):\n",
        "    print(\"Feature \", features[i][0])"
      ],
      "metadata": {
        "colab": {
          "base_uri": "https://localhost:8080/"
        },
        "id": "Td-tpTLjlsJW",
        "outputId": "76b0fff3-9215-4194-f14a-e1d807167b54"
      },
      "execution_count": 225,
      "outputs": [
        {
          "output_type": "stream",
          "name": "stdout",
          "text": [
            "Feature  37\n",
            "Feature  0\n",
            "Feature  26\n",
            "Feature  1\n",
            "Feature  22\n"
          ]
        },
        {
          "output_type": "stream",
          "name": "stderr",
          "text": [
            "/usr/local/lib/python3.9/dist-packages/sklearn/linear_model/_coordinate_descent.py:631: ConvergenceWarning: Objective did not converge. You might want to increase the number of iterations, check the scale of the features or consider increasing regularisation. Duality gap: 2.229e+10, tolerance: 9.951e+06\n",
            "  model = cd_fast.enet_coordinate_descent(\n"
          ]
        }
      ]
    },
    {
      "cell_type": "markdown",
      "source": [
        "Theme 4"
      ],
      "metadata": {
        "id": "5T9LG58Erv-u"
      }
    },
    {
      "cell_type": "code",
      "source": [
        "df= preprocess(theme4short)\n",
        "X = df.drop(['Income:'], axis=1) # independent variables\n",
        "y = df['Income:'] # dependent variable\n",
        "\n",
        "scaler = StandardScaler()\n",
        "X = scaler.fit_transform(X)\n",
        "X_train, X_test, y_train, y_test = train_test_split(X, y, test_size=0.3, random_state=42)\n",
        "\n",
        "from sklearn.linear_model import Lasso\n",
        "lasso = Lasso(alpha=1.0)\n",
        "lasso.fit(X_train, y_train)\n",
        "coef = lasso.coef_\n",
        "feature_importance = np.abs(coef)\n",
        "features = [(i, importance) for i, importance in enumerate(feature_importance)]\n",
        "features.sort(key=lambda x: x[1], reverse=True)\n",
        "# Printing top 5 \n",
        "for i in range(5):\n",
        "    print(\"Feature \", features[i][0])"
      ],
      "metadata": {
        "colab": {
          "base_uri": "https://localhost:8080/"
        },
        "id": "kq8mjC_asPcR",
        "outputId": "8dee78c5-d4ff-4dad-9237-b0064553f495"
      },
      "execution_count": 226,
      "outputs": [
        {
          "output_type": "stream",
          "name": "stdout",
          "text": [
            "Feature  52\n",
            "Feature  76\n",
            "Feature  55\n",
            "Feature  58\n",
            "Feature  82\n"
          ]
        },
        {
          "output_type": "stream",
          "name": "stderr",
          "text": [
            "/usr/local/lib/python3.9/dist-packages/sklearn/linear_model/_coordinate_descent.py:631: ConvergenceWarning: Objective did not converge. You might want to increase the number of iterations, check the scale of the features or consider increasing regularisation. Duality gap: 1.263e+10, tolerance: 6.789e+06\n",
            "  model = cd_fast.enet_coordinate_descent(\n"
          ]
        }
      ]
    },
    {
      "cell_type": "code",
      "source": [
        "df= preprocess(theme4long)\n",
        "X = df.drop(['Income:'], axis=1) # independent variables\n",
        "y = df['Income:'] # dependent variable\n",
        "\n",
        "scaler = StandardScaler()\n",
        "X = scaler.fit_transform(X)\n",
        "X_train, X_test, y_train, y_test = train_test_split(X, y, test_size=0.3, random_state=42)\n",
        "\n",
        "from sklearn.linear_model import Lasso\n",
        "lasso = Lasso(alpha=1.0)\n",
        "lasso.fit(X_train, y_train)\n",
        "coef = lasso.coef_\n",
        "feature_importance = np.abs(coef)\n",
        "features = [(i, importance) for i, importance in enumerate(feature_importance)]\n",
        "features.sort(key=lambda x: x[1], reverse=True)\n",
        "# Printing top 5 \n",
        "for i in range(5):\n",
        "    print(\"Feature \", features[i][0])"
      ],
      "metadata": {
        "colab": {
          "base_uri": "https://localhost:8080/"
        },
        "id": "09QkSssGmCDZ",
        "outputId": "c40aef95-bd36-46b4-b5f5-821ee62466f1"
      },
      "execution_count": 227,
      "outputs": [
        {
          "output_type": "stream",
          "name": "stdout",
          "text": [
            "Feature  81\n",
            "Feature  55\n",
            "Feature  76\n",
            "Feature  0\n",
            "Feature  54\n"
          ]
        },
        {
          "output_type": "stream",
          "name": "stderr",
          "text": [
            "/usr/local/lib/python3.9/dist-packages/sklearn/linear_model/_coordinate_descent.py:631: ConvergenceWarning: Objective did not converge. You might want to increase the number of iterations, check the scale of the features or consider increasing regularisation. Duality gap: 2.148e+10, tolerance: 9.951e+06\n",
            "  model = cd_fast.enet_coordinate_descent(\n"
          ]
        }
      ]
    },
    {
      "cell_type": "markdown",
      "source": [
        "Theme 5"
      ],
      "metadata": {
        "id": "tWvFGI8erv43"
      }
    },
    {
      "cell_type": "code",
      "source": [
        "df= preprocess(theme5short)\n",
        "X = df.drop(['Income:'], axis=1) # independent variables\n",
        "y = df['Income:'] # dependent variable\n",
        "\n",
        "scaler = StandardScaler()\n",
        "X = scaler.fit_transform(X)\n",
        "X_train, X_test, y_train, y_test = train_test_split(X, y, test_size=0.3, random_state=42)\n",
        "\n",
        "from sklearn.linear_model import Lasso\n",
        "lasso = Lasso(alpha=1.0)\n",
        "lasso.fit(X_train, y_train)\n",
        "coef = lasso.coef_\n",
        "feature_importance = np.abs(coef)\n",
        "features = [(i, importance) for i, importance in enumerate(feature_importance)]\n",
        "features.sort(key=lambda x: x[1], reverse=True)\n",
        "# Printing top 5 \n",
        "for i in range(5):\n",
        "    print(\"Feature \", features[i][0])"
      ],
      "metadata": {
        "colab": {
          "base_uri": "https://localhost:8080/"
        },
        "id": "4-uL4wIImGDP",
        "outputId": "41ada726-35b8-4f56-9eca-6b57e7dc16f8"
      },
      "execution_count": 228,
      "outputs": [
        {
          "output_type": "stream",
          "name": "stdout",
          "text": [
            "Feature  4\n",
            "Feature  22\n",
            "Feature  23\n",
            "Feature  7\n",
            "Feature  27\n"
          ]
        },
        {
          "output_type": "stream",
          "name": "stderr",
          "text": [
            "/usr/local/lib/python3.9/dist-packages/sklearn/linear_model/_coordinate_descent.py:631: ConvergenceWarning: Objective did not converge. You might want to increase the number of iterations, check the scale of the features or consider increasing regularisation. Duality gap: 1.077e+10, tolerance: 6.789e+06\n",
            "  model = cd_fast.enet_coordinate_descent(\n"
          ]
        }
      ]
    },
    {
      "cell_type": "code",
      "source": [
        "df= preprocess(theme5long)\n",
        "X = df.drop(['Income:'], axis=1) # independent variables\n",
        "y = df['Income:'] # dependent variable\n",
        "\n",
        "scaler = StandardScaler()\n",
        "X = scaler.fit_transform(X)\n",
        "X_train, X_test, y_train, y_test = train_test_split(X, y, test_size=0.3, random_state=42)\n",
        "\n",
        "from sklearn.linear_model import Lasso\n",
        "lasso = Lasso(alpha=1.0)\n",
        "lasso.fit(X_train, y_train)\n",
        "coef = lasso.coef_\n",
        "feature_importance = np.abs(coef)\n",
        "features = [(i, importance) for i, importance in enumerate(feature_importance)]\n",
        "features.sort(key=lambda x: x[1], reverse=True)\n",
        "# Printing top 5 \n",
        "for i in range(5):\n",
        "    print(\"Feature \", features[i][0])"
      ],
      "metadata": {
        "colab": {
          "base_uri": "https://localhost:8080/"
        },
        "id": "E7cOA7UEmHzY",
        "outputId": "14dd409e-61ed-4055-bd3f-927f2a7e3fea"
      },
      "execution_count": 229,
      "outputs": [
        {
          "output_type": "stream",
          "name": "stdout",
          "text": [
            "Feature  11\n",
            "Feature  8\n",
            "Feature  23\n",
            "Feature  7\n",
            "Feature  13\n"
          ]
        },
        {
          "output_type": "stream",
          "name": "stderr",
          "text": [
            "/usr/local/lib/python3.9/dist-packages/sklearn/linear_model/_coordinate_descent.py:631: ConvergenceWarning: Objective did not converge. You might want to increase the number of iterations, check the scale of the features or consider increasing regularisation. Duality gap: 2.221e+10, tolerance: 9.951e+06\n",
            "  model = cd_fast.enet_coordinate_descent(\n"
          ]
        }
      ]
    },
    {
      "cell_type": "markdown",
      "source": [
        "Theme 6"
      ],
      "metadata": {
        "id": "7BOhFwE4rv1a"
      }
    },
    {
      "cell_type": "code",
      "source": [
        "df= preprocess(theme6short)\n",
        "X = df.drop(['Income:'], axis=1) # independent variables\n",
        "y = df['Income:'] # dependent variable\n",
        "\n",
        "scaler = StandardScaler()\n",
        "X = scaler.fit_transform(X)\n",
        "X_train, X_test, y_train, y_test = train_test_split(X, y, test_size=0.3, random_state=42)\n",
        "\n",
        "from sklearn.linear_model import Lasso\n",
        "lasso = Lasso(alpha=1.0)\n",
        "lasso.fit(X_train, y_train)\n",
        "coef = lasso.coef_\n",
        "feature_importance = np.abs(coef)\n",
        "features = [(i, importance) for i, importance in enumerate(feature_importance)]\n",
        "features.sort(key=lambda x: x[1], reverse=True)\n",
        "# Printing top 5 \n",
        "for i in range(5):\n",
        "    print(\"Feature \", features[i][0])"
      ],
      "metadata": {
        "colab": {
          "base_uri": "https://localhost:8080/"
        },
        "id": "JARgQsNPsSJU",
        "outputId": "9b1d6829-3b0a-4504-f0e2-8f9147e39d75"
      },
      "execution_count": 230,
      "outputs": [
        {
          "output_type": "stream",
          "name": "stdout",
          "text": [
            "Feature  29\n",
            "Feature  25\n",
            "Feature  18\n",
            "Feature  14\n",
            "Feature  16\n"
          ]
        },
        {
          "output_type": "stream",
          "name": "stderr",
          "text": [
            "/usr/local/lib/python3.9/dist-packages/sklearn/linear_model/_coordinate_descent.py:631: ConvergenceWarning: Objective did not converge. You might want to increase the number of iterations, check the scale of the features or consider increasing regularisation. Duality gap: 7.364e+09, tolerance: 6.789e+06\n",
            "  model = cd_fast.enet_coordinate_descent(\n"
          ]
        }
      ]
    },
    {
      "cell_type": "code",
      "source": [
        "df= preprocess(theme6long)\n",
        "X = df.drop(['Income:'], axis=1) # independent variables\n",
        "y = df['Income:'] # dependent variable\n",
        "\n",
        "scaler = StandardScaler()\n",
        "X = scaler.fit_transform(X)\n",
        "X_train, X_test, y_train, y_test = train_test_split(X, y, test_size=0.3, random_state=42)\n",
        "\n",
        "from sklearn.linear_model import Lasso\n",
        "lasso = Lasso(alpha=1.0)\n",
        "lasso.fit(X_train, y_train)\n",
        "coef = lasso.coef_\n",
        "feature_importance = np.abs(coef)\n",
        "features = [(i, importance) for i, importance in enumerate(feature_importance)]\n",
        "features.sort(key=lambda x: x[1], reverse=True)\n",
        "# Printing top 5 \n",
        "for i in range(5):\n",
        "    print(\"Feature \", features[i][0])"
      ],
      "metadata": {
        "colab": {
          "base_uri": "https://localhost:8080/"
        },
        "id": "aIKDTsiemOdH",
        "outputId": "b9530077-f9ac-41f3-f653-09b6b92bb97d"
      },
      "execution_count": 231,
      "outputs": [
        {
          "output_type": "stream",
          "name": "stdout",
          "text": [
            "Feature  29\n",
            "Feature  43\n",
            "Feature  18\n",
            "Feature  25\n",
            "Feature  14\n"
          ]
        },
        {
          "output_type": "stream",
          "name": "stderr",
          "text": [
            "/usr/local/lib/python3.9/dist-packages/sklearn/linear_model/_coordinate_descent.py:631: ConvergenceWarning: Objective did not converge. You might want to increase the number of iterations, check the scale of the features or consider increasing regularisation. Duality gap: 1.592e+10, tolerance: 9.951e+06\n",
            "  model = cd_fast.enet_coordinate_descent(\n"
          ]
        }
      ]
    },
    {
      "cell_type": "markdown",
      "source": [
        "Theme 7"
      ],
      "metadata": {
        "id": "exSt8NZervx7"
      }
    },
    {
      "cell_type": "code",
      "source": [
        "df= preprocess(theme7short)\n",
        "X = df.drop(['Income:'], axis=1) # independent variables\n",
        "y = df['Income:'] # dependent variable\n",
        "\n",
        "scaler = StandardScaler()\n",
        "X = scaler.fit_transform(X)\n",
        "X_train, X_test, y_train, y_test = train_test_split(X, y, test_size=0.3, random_state=42)\n",
        "\n",
        "from sklearn.linear_model import Lasso\n",
        "lasso = Lasso(alpha=1.0)\n",
        "lasso.fit(X_train, y_train)\n",
        "coef = lasso.coef_\n",
        "feature_importance = np.abs(coef)\n",
        "features = [(i, importance) for i, importance in enumerate(feature_importance)]\n",
        "features.sort(key=lambda x: x[1], reverse=True)\n",
        "# Printing top 2 \n",
        "for i in range(2):\n",
        "    print(\"Feature \", features[i][0])"
      ],
      "metadata": {
        "colab": {
          "base_uri": "https://localhost:8080/"
        },
        "id": "blQ1ujY5sT8a",
        "outputId": "2ebf9c70-6adc-447f-dfbd-7ea088e53418"
      },
      "execution_count": 233,
      "outputs": [
        {
          "output_type": "stream",
          "name": "stdout",
          "text": [
            "Feature  1\n",
            "Feature  0\n"
          ]
        }
      ]
    },
    {
      "cell_type": "code",
      "source": [
        "df= preprocess(theme7long)\n",
        "X = df.drop(['Income:'], axis=1) # independent variables\n",
        "y = df['Income:'] # dependent variable\n",
        "\n",
        "scaler = StandardScaler()\n",
        "X = scaler.fit_transform(X)\n",
        "X_train, X_test, y_train, y_test = train_test_split(X, y, test_size=0.3, random_state=42)\n",
        "\n",
        "from sklearn.linear_model import Lasso\n",
        "lasso = Lasso(alpha=1.0)\n",
        "lasso.fit(X_train, y_train)\n",
        "coef = lasso.coef_\n",
        "feature_importance = np.abs(coef)\n",
        "features = [(i, importance) for i, importance in enumerate(feature_importance)]\n",
        "features.sort(key=lambda x: x[1], reverse=True)\n",
        "# Printing top 2 \n",
        "for i in range(2):\n",
        "    print(\"Feature \", features[i][0])"
      ],
      "metadata": {
        "colab": {
          "base_uri": "https://localhost:8080/"
        },
        "id": "aenXbt7umV0B",
        "outputId": "e8ee755e-8964-4518-b2ed-9af95fffec62"
      },
      "execution_count": 236,
      "outputs": [
        {
          "output_type": "stream",
          "name": "stdout",
          "text": [
            "Feature  1\n",
            "Feature  0\n"
          ]
        }
      ]
    },
    {
      "cell_type": "markdown",
      "source": [
        "Theme 8"
      ],
      "metadata": {
        "id": "Ae4WUp2srvuB"
      }
    },
    {
      "cell_type": "code",
      "source": [
        "df= preprocess(theme8short)\n",
        "X = df.drop(['Income:'], axis=1) # independent variables\n",
        "y = df['Income:'] # dependent variable\n",
        "\n",
        "scaler = StandardScaler()\n",
        "X = scaler.fit_transform(X)\n",
        "X_train, X_test, y_train, y_test = train_test_split(X, y, test_size=0.3, random_state=42)\n",
        "\n",
        "from sklearn.linear_model import Lasso\n",
        "lasso = Lasso(alpha=1.0)\n",
        "lasso.fit(X_train, y_train)\n",
        "coef = lasso.coef_\n",
        "feature_importance = np.abs(coef)\n",
        "features = [(i, importance) for i, importance in enumerate(feature_importance)]\n",
        "features.sort(key=lambda x: x[1], reverse=True)\n",
        "# Printing top 5 \n",
        "for i in range(5):\n",
        "    print(\"Feature \", features[i][0])"
      ],
      "metadata": {
        "colab": {
          "base_uri": "https://localhost:8080/"
        },
        "id": "W-DmRNI_sVXN",
        "outputId": "16962be2-afec-4d6b-f416-9053b3f423a9"
      },
      "execution_count": 237,
      "outputs": [
        {
          "output_type": "stream",
          "name": "stdout",
          "text": [
            "Feature  9\n",
            "Feature  14\n",
            "Feature  8\n",
            "Feature  17\n",
            "Feature  18\n"
          ]
        },
        {
          "output_type": "stream",
          "name": "stderr",
          "text": [
            "/usr/local/lib/python3.9/dist-packages/sklearn/linear_model/_coordinate_descent.py:631: ConvergenceWarning: Objective did not converge. You might want to increase the number of iterations, check the scale of the features or consider increasing regularisation. Duality gap: 9.156e+09, tolerance: 6.789e+06\n",
            "  model = cd_fast.enet_coordinate_descent(\n"
          ]
        }
      ]
    },
    {
      "cell_type": "code",
      "source": [
        "df= preprocess(theme8long)\n",
        "X = df.drop(['Income:'], axis=1) # independent variables\n",
        "y = df['Income:'] # dependent variable\n",
        "\n",
        "scaler = StandardScaler()\n",
        "X = scaler.fit_transform(X)\n",
        "X_train, X_test, y_train, y_test = train_test_split(X, y, test_size=0.3, random_state=42)\n",
        "\n",
        "from sklearn.linear_model import Lasso\n",
        "lasso = Lasso(alpha=1.0)\n",
        "lasso.fit(X_train, y_train)\n",
        "coef = lasso.coef_\n",
        "feature_importance = np.abs(coef)\n",
        "features = [(i, importance) for i, importance in enumerate(feature_importance)]\n",
        "features.sort(key=lambda x: x[1], reverse=True)\n",
        "# Printing top 5 \n",
        "for i in range(5):\n",
        "    print(\"Feature \", features[i][0])"
      ],
      "metadata": {
        "colab": {
          "base_uri": "https://localhost:8080/"
        },
        "id": "4nojDCAPmgtm",
        "outputId": "1aafa0c2-9af1-4315-bae9-eb3979fb01cd"
      },
      "execution_count": 239,
      "outputs": [
        {
          "output_type": "stream",
          "name": "stdout",
          "text": [
            "Feature  9\n",
            "Feature  14\n",
            "Feature  18\n",
            "Feature  22\n",
            "Feature  17\n"
          ]
        },
        {
          "output_type": "stream",
          "name": "stderr",
          "text": [
            "/usr/local/lib/python3.9/dist-packages/sklearn/linear_model/_coordinate_descent.py:631: ConvergenceWarning: Objective did not converge. You might want to increase the number of iterations, check the scale of the features or consider increasing regularisation. Duality gap: 1.041e+10, tolerance: 9.951e+06\n",
            "  model = cd_fast.enet_coordinate_descent(\n"
          ]
        }
      ]
    },
    {
      "cell_type": "markdown",
      "source": [
        "Theme 9"
      ],
      "metadata": {
        "id": "PYA19zMvrvpt"
      }
    },
    {
      "cell_type": "code",
      "source": [
        "df= preprocess(theme9short)\n",
        "X = df.drop(['Income:'], axis=1) # independent variables\n",
        "y = df['Income:'] # dependent variable\n",
        "\n",
        "scaler = StandardScaler()\n",
        "X = scaler.fit_transform(X)\n",
        "X_train, X_test, y_train, y_test = train_test_split(X, y, test_size=0.3, random_state=42)\n",
        "\n",
        "from sklearn.linear_model import Lasso\n",
        "lasso = Lasso(alpha=1.0)\n",
        "lasso.fit(X_train, y_train)\n",
        "coef = lasso.coef_\n",
        "feature_importance = np.abs(coef)\n",
        "features = [(i, importance) for i, importance in enumerate(feature_importance)]\n",
        "features.sort(key=lambda x: x[1], reverse=True)\n",
        "# Printing top 5 \n",
        "for i in range(5):\n",
        "    print(\"Feature \", features[i][0])"
      ],
      "metadata": {
        "colab": {
          "base_uri": "https://localhost:8080/"
        },
        "id": "fSjQFJUhmlKR",
        "outputId": "8b61c03d-0b77-4678-9172-50789cba6af5"
      },
      "execution_count": 240,
      "outputs": [
        {
          "output_type": "stream",
          "name": "stdout",
          "text": [
            "Feature  38\n",
            "Feature  41\n",
            "Feature  37\n",
            "Feature  26\n",
            "Feature  11\n"
          ]
        },
        {
          "output_type": "stream",
          "name": "stderr",
          "text": [
            "/usr/local/lib/python3.9/dist-packages/sklearn/linear_model/_coordinate_descent.py:631: ConvergenceWarning: Objective did not converge. You might want to increase the number of iterations, check the scale of the features or consider increasing regularisation. Duality gap: 1.208e+10, tolerance: 6.789e+06\n",
            "  model = cd_fast.enet_coordinate_descent(\n"
          ]
        }
      ]
    },
    {
      "cell_type": "code",
      "source": [
        "df= preprocess(theme9long)\n",
        "X = df.drop(['Income:'], axis=1) # independent variables\n",
        "y = df['Income:'] # dependent variable\n",
        "\n",
        "scaler = StandardScaler()\n",
        "X = scaler.fit_transform(X)\n",
        "X_train, X_test, y_train, y_test = train_test_split(X, y, test_size=0.3, random_state=42)\n",
        "\n",
        "from sklearn.linear_model import Lasso\n",
        "lasso = Lasso(alpha=1.0)\n",
        "lasso.fit(X_train, y_train)\n",
        "coef = lasso.coef_\n",
        "feature_importance = np.abs(coef)\n",
        "features = [(i, importance) for i, importance in enumerate(feature_importance)]\n",
        "features.sort(key=lambda x: x[1], reverse=True)\n",
        "# Printing top 5 \n",
        "for i in range(5):\n",
        "    print(\"Feature \", features[i][0])"
      ],
      "metadata": {
        "colab": {
          "base_uri": "https://localhost:8080/"
        },
        "id": "C0gVW7Mhmoeu",
        "outputId": "833ac293-ed10-41e2-e17d-3824b3196b97"
      },
      "execution_count": 242,
      "outputs": [
        {
          "output_type": "stream",
          "name": "stdout",
          "text": [
            "Feature  8\n",
            "Feature  14\n",
            "Feature  37\n",
            "Feature  40\n",
            "Feature  9\n"
          ]
        },
        {
          "output_type": "stream",
          "name": "stderr",
          "text": [
            "/usr/local/lib/python3.9/dist-packages/sklearn/linear_model/_coordinate_descent.py:631: ConvergenceWarning: Objective did not converge. You might want to increase the number of iterations, check the scale of the features or consider increasing regularisation. Duality gap: 2.250e+10, tolerance: 9.951e+06\n",
            "  model = cd_fast.enet_coordinate_descent(\n"
          ]
        }
      ]
    },
    {
      "cell_type": "markdown",
      "source": [
        "Theme 10"
      ],
      "metadata": {
        "id": "6ygg3IjGrvmH"
      }
    },
    {
      "cell_type": "code",
      "source": [
        "df= preprocess(theme10short)\n",
        "X = df.drop(['Income:'], axis=1) # independent variables\n",
        "y = df['Income:'] # dependent variable\n",
        "\n",
        "scaler = StandardScaler()\n",
        "X = scaler.fit_transform(X)\n",
        "X_train, X_test, y_train, y_test = train_test_split(X, y, test_size=0.3, random_state=42)\n",
        "\n",
        "from sklearn.linear_model import Lasso\n",
        "lasso = Lasso(alpha=1.0)\n",
        "lasso.fit(X_train, y_train)\n",
        "coef = lasso.coef_\n",
        "feature_importance = np.abs(coef)\n",
        "features = [(i, importance) for i, importance in enumerate(feature_importance)]\n",
        "features.sort(key=lambda x: x[1], reverse=True)\n",
        "# Printing top 5 \n",
        "for i in range(5):\n",
        "    print(\"Feature \", features[i][0])"
      ],
      "metadata": {
        "colab": {
          "base_uri": "https://localhost:8080/"
        },
        "id": "kJTcu_8KmtR4",
        "outputId": "5841e266-dd03-49d6-bba1-292e00918241"
      },
      "execution_count": 243,
      "outputs": [
        {
          "output_type": "stream",
          "name": "stdout",
          "text": [
            "Feature  17\n",
            "Feature  73\n",
            "Feature  94\n",
            "Feature  89\n",
            "Feature  84\n"
          ]
        },
        {
          "output_type": "stream",
          "name": "stderr",
          "text": [
            "/usr/local/lib/python3.9/dist-packages/sklearn/linear_model/_coordinate_descent.py:631: ConvergenceWarning: Objective did not converge. You might want to increase the number of iterations, check the scale of the features or consider increasing regularisation. Duality gap: 8.066e+09, tolerance: 6.789e+06\n",
            "  model = cd_fast.enet_coordinate_descent(\n"
          ]
        }
      ]
    },
    {
      "cell_type": "code",
      "source": [
        "df= preprocess(theme10long)\n",
        "X = df.drop(['Income:'], axis=1) # independent variables\n",
        "y = df['Income:'] # dependent variable\n",
        "\n",
        "scaler = StandardScaler()\n",
        "X = scaler.fit_transform(X)\n",
        "X_train, X_test, y_train, y_test = train_test_split(X, y, test_size=0.3, random_state=42)\n",
        "\n",
        "from sklearn.linear_model import Lasso\n",
        "lasso = Lasso(alpha=1.0)\n",
        "lasso.fit(X_train, y_train)\n",
        "coef = lasso.coef_\n",
        "feature_importance = np.abs(coef)\n",
        "features = [(i, importance) for i, importance in enumerate(feature_importance)]\n",
        "features.sort(key=lambda x: x[1], reverse=True)\n",
        "# Printing top 5 \n",
        "for i in range(5):\n",
        "    print(\"Feature \", features[i][0])"
      ],
      "metadata": {
        "colab": {
          "base_uri": "https://localhost:8080/"
        },
        "id": "4UHojPG0mvVF",
        "outputId": "7e7f9fed-12c5-47f4-de11-45d23c1e3fad"
      },
      "execution_count": 244,
      "outputs": [
        {
          "output_type": "stream",
          "name": "stdout",
          "text": [
            "Feature  46\n",
            "Feature  17\n",
            "Feature  81\n",
            "Feature  84\n",
            "Feature  18\n"
          ]
        },
        {
          "output_type": "stream",
          "name": "stderr",
          "text": [
            "/usr/local/lib/python3.9/dist-packages/sklearn/linear_model/_coordinate_descent.py:631: ConvergenceWarning: Objective did not converge. You might want to increase the number of iterations, check the scale of the features or consider increasing regularisation. Duality gap: 1.410e+10, tolerance: 9.951e+06\n",
            "  model = cd_fast.enet_coordinate_descent(\n"
          ]
        }
      ]
    },
    {
      "cell_type": "markdown",
      "source": [
        "Theme 11"
      ],
      "metadata": {
        "id": "f0LFMnfSrve3"
      }
    },
    {
      "cell_type": "code",
      "source": [
        "df= preprocess(theme11short)\n",
        "X = df.drop(['Income:'], axis=1) # independent variables\n",
        "y = df['Income:'] # dependent variable\n",
        "\n",
        "scaler = StandardScaler()\n",
        "X = scaler.fit_transform(X)\n",
        "X_train, X_test, y_train, y_test = train_test_split(X, y, test_size=0.3, random_state=42)\n",
        "\n",
        "from sklearn.linear_model import Lasso\n",
        "lasso = Lasso(alpha=1.0)\n",
        "lasso.fit(X_train, y_train)\n",
        "coef = lasso.coef_\n",
        "feature_importance = np.abs(coef)\n",
        "features = [(i, importance) for i, importance in enumerate(feature_importance)]\n",
        "features.sort(key=lambda x: x[1], reverse=True)\n",
        "# Printing top 5 \n",
        "for i in range(5):\n",
        "    print(\"Feature \", features[i][0])"
      ],
      "metadata": {
        "colab": {
          "base_uri": "https://localhost:8080/"
        },
        "id": "sbITzCJqsozG",
        "outputId": "40cafed8-3d43-415a-80b9-2f9a13263065"
      },
      "execution_count": 245,
      "outputs": [
        {
          "output_type": "stream",
          "name": "stdout",
          "text": [
            "Feature  53\n",
            "Feature  52\n",
            "Feature  43\n",
            "Feature  50\n",
            "Feature  45\n"
          ]
        },
        {
          "output_type": "stream",
          "name": "stderr",
          "text": [
            "/usr/local/lib/python3.9/dist-packages/sklearn/linear_model/_coordinate_descent.py:631: ConvergenceWarning: Objective did not converge. You might want to increase the number of iterations, check the scale of the features or consider increasing regularisation. Duality gap: 8.025e+09, tolerance: 6.789e+06\n",
            "  model = cd_fast.enet_coordinate_descent(\n"
          ]
        }
      ]
    },
    {
      "cell_type": "code",
      "source": [
        "df= preprocess(theme11long)\n",
        "X = df.drop(['Income:'], axis=1) # independent variables\n",
        "y = df['Income:'] # dependent variable\n",
        "\n",
        "scaler = StandardScaler()\n",
        "X = scaler.fit_transform(X)\n",
        "X_train, X_test, y_train, y_test = train_test_split(X, y, test_size=0.3, random_state=42)\n",
        "\n",
        "from sklearn.linear_model import Lasso\n",
        "lasso = Lasso(alpha=1.0)\n",
        "lasso.fit(X_train, y_train)\n",
        "coef = lasso.coef_\n",
        "feature_importance = np.abs(coef)\n",
        "features = [(i, importance) for i, importance in enumerate(feature_importance)]\n",
        "features.sort(key=lambda x: x[1], reverse=True)\n",
        "# Printing top 5 \n",
        "for i in range(5):\n",
        "    print(\"Feature \", features[i][0])"
      ],
      "metadata": {
        "colab": {
          "base_uri": "https://localhost:8080/"
        },
        "id": "Owi_JdYrm1Kl",
        "outputId": "202f5914-b40d-4c67-f715-1de1fbe1269d"
      },
      "execution_count": 246,
      "outputs": [
        {
          "output_type": "stream",
          "name": "stdout",
          "text": [
            "Feature  48\n",
            "Feature  6\n",
            "Feature  53\n",
            "Feature  52\n",
            "Feature  31\n"
          ]
        },
        {
          "output_type": "stream",
          "name": "stderr",
          "text": [
            "/usr/local/lib/python3.9/dist-packages/sklearn/linear_model/_coordinate_descent.py:631: ConvergenceWarning: Objective did not converge. You might want to increase the number of iterations, check the scale of the features or consider increasing regularisation. Duality gap: 1.238e+10, tolerance: 9.951e+06\n",
            "  model = cd_fast.enet_coordinate_descent(\n"
          ]
        }
      ]
    },
    {
      "cell_type": "markdown",
      "source": [
        "Theme 12"
      ],
      "metadata": {
        "id": "ow6MXmzprvbg"
      }
    },
    {
      "cell_type": "code",
      "source": [
        "df= preprocess(theme12short)\n",
        "X = df.drop(['Income:'], axis=1) # independent variables\n",
        "y = df['Income:'] # dependent variable\n",
        "\n",
        "scaler = StandardScaler()\n",
        "X = scaler.fit_transform(X)\n",
        "X_train, X_test, y_train, y_test = train_test_split(X, y, test_size=0.3, random_state=42)\n",
        "\n",
        "from sklearn.linear_model import Lasso\n",
        "lasso = Lasso(alpha=1.0)\n",
        "lasso.fit(X_train, y_train)\n",
        "coef = lasso.coef_\n",
        "feature_importance = np.abs(coef)\n",
        "features = [(i, importance) for i, importance in enumerate(feature_importance)]\n",
        "features.sort(key=lambda x: x[1], reverse=True)\n",
        "# Printing top 5 \n",
        "for i in range(5):\n",
        "    print(\"Feature \", features[i][0])"
      ],
      "metadata": {
        "colab": {
          "base_uri": "https://localhost:8080/"
        },
        "id": "FL0spM5Ksq0y",
        "outputId": "3ee0ea4c-0480-4e1e-fde1-80f983e4bdf6"
      },
      "execution_count": 247,
      "outputs": [
        {
          "output_type": "stream",
          "name": "stdout",
          "text": [
            "Feature  24\n",
            "Feature  1\n",
            "Feature  9\n",
            "Feature  6\n",
            "Feature  12\n"
          ]
        },
        {
          "output_type": "stream",
          "name": "stderr",
          "text": [
            "/usr/local/lib/python3.9/dist-packages/sklearn/linear_model/_coordinate_descent.py:631: ConvergenceWarning: Objective did not converge. You might want to increase the number of iterations, check the scale of the features or consider increasing regularisation. Duality gap: 9.389e+09, tolerance: 6.789e+06\n",
            "  model = cd_fast.enet_coordinate_descent(\n"
          ]
        }
      ]
    },
    {
      "cell_type": "code",
      "source": [
        "df= preprocess(theme12long)\n",
        "X = df.drop(['Income:'], axis=1) # independent variables\n",
        "y = df['Income:'] # dependent variable\n",
        "\n",
        "scaler = StandardScaler()\n",
        "X = scaler.fit_transform(X)\n",
        "X_train, X_test, y_train, y_test = train_test_split(X, y, test_size=0.3, random_state=42)\n",
        "\n",
        "from sklearn.linear_model import Lasso\n",
        "lasso = Lasso(alpha=1.0)\n",
        "lasso.fit(X_train, y_train)\n",
        "coef = lasso.coef_\n",
        "feature_importance = np.abs(coef)\n",
        "features = [(i, importance) for i, importance in enumerate(feature_importance)]\n",
        "features.sort(key=lambda x: x[1], reverse=True)\n",
        "# Printing top 5 \n",
        "for i in range(5):\n",
        "    print(\"Feature \", features[i][0])"
      ],
      "metadata": {
        "colab": {
          "base_uri": "https://localhost:8080/"
        },
        "id": "vGtT6S-em7iB",
        "outputId": "50f1c3a8-1c86-4e94-f055-91a97c84334e"
      },
      "execution_count": 248,
      "outputs": [
        {
          "output_type": "stream",
          "name": "stdout",
          "text": [
            "Feature  7\n",
            "Feature  9\n",
            "Feature  24\n",
            "Feature  25\n",
            "Feature  6\n"
          ]
        },
        {
          "output_type": "stream",
          "name": "stderr",
          "text": [
            "/usr/local/lib/python3.9/dist-packages/sklearn/linear_model/_coordinate_descent.py:631: ConvergenceWarning: Objective did not converge. You might want to increase the number of iterations, check the scale of the features or consider increasing regularisation. Duality gap: 1.430e+10, tolerance: 9.951e+06\n",
            "  model = cd_fast.enet_coordinate_descent(\n"
          ]
        }
      ]
    },
    {
      "cell_type": "markdown",
      "source": [
        "Theme 13"
      ],
      "metadata": {
        "id": "3KiAEfFdr-57"
      }
    },
    {
      "cell_type": "code",
      "source": [
        "df= preprocess(theme13short)\n",
        "X = df.drop(['Income:'], axis=1) # independent variables\n",
        "y = df['Income:'] # dependent variable\n",
        "\n",
        "scaler = StandardScaler()\n",
        "X = scaler.fit_transform(X)\n",
        "X_train, X_test, y_train, y_test = train_test_split(X, y, test_size=0.3, random_state=42)\n",
        "\n",
        "from sklearn.linear_model import Lasso\n",
        "lasso = Lasso(alpha=1.0)\n",
        "lasso.fit(X_train, y_train)\n",
        "coef = lasso.coef_\n",
        "feature_importance = np.abs(coef)\n",
        "features = [(i, importance) for i, importance in enumerate(feature_importance)]\n",
        "features.sort(key=lambda x: x[1], reverse=True)\n",
        "# Printing top 5 \n",
        "for i in range(5):\n",
        "    print(\"Feature \", features[i][0])"
      ],
      "metadata": {
        "colab": {
          "base_uri": "https://localhost:8080/"
        },
        "id": "r6SJkqf-ssKf",
        "outputId": "34553167-3ef9-4a8c-9660-52a0a3e7648f"
      },
      "execution_count": 249,
      "outputs": [
        {
          "output_type": "stream",
          "name": "stdout",
          "text": [
            "Feature  12\n",
            "Feature  11\n",
            "Feature  19\n",
            "Feature  4\n",
            "Feature  0\n"
          ]
        },
        {
          "output_type": "stream",
          "name": "stderr",
          "text": [
            "/usr/local/lib/python3.9/dist-packages/sklearn/linear_model/_coordinate_descent.py:631: ConvergenceWarning: Objective did not converge. You might want to increase the number of iterations, check the scale of the features or consider increasing regularisation. Duality gap: 1.013e+09, tolerance: 6.789e+06\n",
            "  model = cd_fast.enet_coordinate_descent(\n"
          ]
        }
      ]
    },
    {
      "cell_type": "code",
      "source": [
        "df= preprocess(theme13long)\n",
        "X = df.drop(['Income:'], axis=1) # independent variables\n",
        "y = df['Income:'] # dependent variable\n",
        "\n",
        "scaler = StandardScaler()\n",
        "X = scaler.fit_transform(X)\n",
        "X_train, X_test, y_train, y_test = train_test_split(X, y, test_size=0.3, random_state=42)\n",
        "\n",
        "from sklearn.linear_model import Lasso\n",
        "lasso = Lasso(alpha=1.0)\n",
        "lasso.fit(X_train, y_train)\n",
        "coef = lasso.coef_\n",
        "feature_importance = np.abs(coef)\n",
        "features = [(i, importance) for i, importance in enumerate(feature_importance)]\n",
        "features.sort(key=lambda x: x[1], reverse=True)\n",
        "# Printing top 5 \n",
        "for i in range(5):\n",
        "    print(\"Feature \", features[i][0])"
      ],
      "metadata": {
        "colab": {
          "base_uri": "https://localhost:8080/"
        },
        "id": "HB53NsjznC4u",
        "outputId": "0a796813-a08e-4750-9dea-08ccac94ca3a"
      },
      "execution_count": 250,
      "outputs": [
        {
          "output_type": "stream",
          "name": "stdout",
          "text": [
            "Feature  0\n",
            "Feature  12\n",
            "Feature  6\n",
            "Feature  1\n",
            "Feature  9\n"
          ]
        },
        {
          "output_type": "stream",
          "name": "stderr",
          "text": [
            "/usr/local/lib/python3.9/dist-packages/sklearn/linear_model/_coordinate_descent.py:631: ConvergenceWarning: Objective did not converge. You might want to increase the number of iterations, check the scale of the features or consider increasing regularisation. Duality gap: 1.173e+10, tolerance: 9.951e+06\n",
            "  model = cd_fast.enet_coordinate_descent(\n"
          ]
        }
      ]
    },
    {
      "cell_type": "markdown",
      "source": [
        "Theme 14"
      ],
      "metadata": {
        "id": "e1UUO8_asE4O"
      }
    },
    {
      "cell_type": "code",
      "source": [
        "df= preprocess(theme14short)\n",
        "X = df.drop(['Income:'], axis=1) # independent variables\n",
        "y = df['Income:'] # dependent variable\n",
        "\n",
        "scaler = StandardScaler()\n",
        "X = scaler.fit_transform(X)\n",
        "X_train, X_test, y_train, y_test = train_test_split(X, y, test_size=0.3, random_state=42)\n",
        "\n",
        "from sklearn.linear_model import Lasso\n",
        "lasso = Lasso(alpha=1.0)\n",
        "lasso.fit(X_train, y_train)\n",
        "coef = lasso.coef_\n",
        "feature_importance = np.abs(coef)\n",
        "features = [(i, importance) for i, importance in enumerate(feature_importance)]\n",
        "features.sort(key=lambda x: x[1], reverse=True)\n",
        "# Printing top 5 \n",
        "for i in range(5):\n",
        "    print(\"Feature \", features[i][0])"
      ],
      "metadata": {
        "colab": {
          "base_uri": "https://localhost:8080/"
        },
        "id": "bffl3_4tsvtl",
        "outputId": "962b5fa6-47da-4372-9cd3-7d4ada39dbc4"
      },
      "execution_count": 251,
      "outputs": [
        {
          "output_type": "stream",
          "name": "stdout",
          "text": [
            "Feature  3\n",
            "Feature  16\n",
            "Feature  12\n",
            "Feature  4\n",
            "Feature  6\n"
          ]
        },
        {
          "output_type": "stream",
          "name": "stderr",
          "text": [
            "/usr/local/lib/python3.9/dist-packages/sklearn/linear_model/_coordinate_descent.py:631: ConvergenceWarning: Objective did not converge. You might want to increase the number of iterations, check the scale of the features or consider increasing regularisation. Duality gap: 9.511e+09, tolerance: 6.789e+06\n",
            "  model = cd_fast.enet_coordinate_descent(\n"
          ]
        }
      ]
    },
    {
      "cell_type": "code",
      "source": [
        "df= preprocess(theme14long)\n",
        "X = df.drop(['Income:'], axis=1) # independent variables\n",
        "y = df['Income:'] # dependent variable\n",
        "\n",
        "scaler = StandardScaler()\n",
        "X = scaler.fit_transform(X)\n",
        "X_train, X_test, y_train, y_test = train_test_split(X, y, test_size=0.3, random_state=42)\n",
        "\n",
        "from sklearn.linear_model import Lasso\n",
        "lasso = Lasso(alpha=1.0)\n",
        "lasso.fit(X_train, y_train)\n",
        "coef = lasso.coef_\n",
        "feature_importance = np.abs(coef)\n",
        "features = [(i, importance) for i, importance in enumerate(feature_importance)]\n",
        "features.sort(key=lambda x: x[1], reverse=True)\n",
        "# Printing top 5 \n",
        "for i in range(5):\n",
        "    print(\"Feature \", features[i][0])"
      ],
      "metadata": {
        "colab": {
          "base_uri": "https://localhost:8080/"
        },
        "id": "B3t7kcnRnK4J",
        "outputId": "ff10ded6-1382-463e-8a3d-91b172898622"
      },
      "execution_count": 252,
      "outputs": [
        {
          "output_type": "stream",
          "name": "stdout",
          "text": [
            "Feature  3\n",
            "Feature  12\n",
            "Feature  4\n",
            "Feature  21\n",
            "Feature  7\n"
          ]
        },
        {
          "output_type": "stream",
          "name": "stderr",
          "text": [
            "/usr/local/lib/python3.9/dist-packages/sklearn/linear_model/_coordinate_descent.py:631: ConvergenceWarning: Objective did not converge. You might want to increase the number of iterations, check the scale of the features or consider increasing regularisation. Duality gap: 6.495e+09, tolerance: 9.951e+06\n",
            "  model = cd_fast.enet_coordinate_descent(\n"
          ]
        }
      ]
    },
    {
      "cell_type": "markdown",
      "source": [
        "Theme 15"
      ],
      "metadata": {
        "id": "kSQQOwwQsF8t"
      }
    },
    {
      "cell_type": "code",
      "source": [
        "df= preprocess(theme15short)\n",
        "X = df.drop(['Income:'], axis=1) # independent variables\n",
        "y = df['Income:'] # dependent variable\n",
        "\n",
        "scaler = StandardScaler()\n",
        "X = scaler.fit_transform(X)\n",
        "X_train, X_test, y_train, y_test = train_test_split(X, y, test_size=0.3, random_state=42)\n",
        "\n",
        "from sklearn.linear_model import Lasso\n",
        "lasso = Lasso(alpha=1.0)\n",
        "lasso.fit(X_train, y_train)\n",
        "coef = lasso.coef_\n",
        "feature_importance = np.abs(coef)\n",
        "features = [(i, importance) for i, importance in enumerate(feature_importance)]\n",
        "features.sort(key=lambda x: x[1], reverse=True)\n",
        "# Printing top 5 \n",
        "for i in range(5):\n",
        "    print(\"Feature \", features[i][0])"
      ],
      "metadata": {
        "colab": {
          "base_uri": "https://localhost:8080/"
        },
        "id": "phXMp2U2sw_t",
        "outputId": "4ac8f761-c866-4607-ffe8-657daa309c94"
      },
      "execution_count": 253,
      "outputs": [
        {
          "output_type": "stream",
          "name": "stdout",
          "text": [
            "Feature  8\n",
            "Feature  10\n",
            "Feature  2\n",
            "Feature  14\n",
            "Feature  0\n"
          ]
        },
        {
          "output_type": "stream",
          "name": "stderr",
          "text": [
            "/usr/local/lib/python3.9/dist-packages/sklearn/linear_model/_coordinate_descent.py:631: ConvergenceWarning: Objective did not converge. You might want to increase the number of iterations, check the scale of the features or consider increasing regularisation. Duality gap: 4.632e+09, tolerance: 6.789e+06\n",
            "  model = cd_fast.enet_coordinate_descent(\n"
          ]
        }
      ]
    },
    {
      "cell_type": "code",
      "source": [
        "df= preprocess(theme15long)\n",
        "X = df.drop(['Income:'], axis=1) # independent variables\n",
        "y = df['Income:'] # dependent variable\n",
        "\n",
        "scaler = StandardScaler()\n",
        "X = scaler.fit_transform(X)\n",
        "X_train, X_test, y_train, y_test = train_test_split(X, y, test_size=0.3, random_state=42)\n",
        "\n",
        "from sklearn.linear_model import Lasso\n",
        "lasso = Lasso(alpha=1.0)\n",
        "lasso.fit(X_train, y_train)\n",
        "coef = lasso.coef_\n",
        "feature_importance = np.abs(coef)\n",
        "features = [(i, importance) for i, importance in enumerate(feature_importance)]\n",
        "features.sort(key=lambda x: x[1], reverse=True)\n",
        "# Printing top 5 \n",
        "for i in range(5):\n",
        "    print(\"Feature \", features[i][0])"
      ],
      "metadata": {
        "id": "aNkxEqw3tg_Y",
        "colab": {
          "base_uri": "https://localhost:8080/"
        },
        "outputId": "a56f8c56-0427-4e4e-b629-8afc0d045116"
      },
      "execution_count": 255,
      "outputs": [
        {
          "output_type": "stream",
          "name": "stdout",
          "text": [
            "Feature  8\n",
            "Feature  10\n",
            "Feature  13\n",
            "Feature  7\n",
            "Feature  1\n"
          ]
        },
        {
          "output_type": "stream",
          "name": "stderr",
          "text": [
            "/usr/local/lib/python3.9/dist-packages/sklearn/linear_model/_coordinate_descent.py:631: ConvergenceWarning: Objective did not converge. You might want to increase the number of iterations, check the scale of the features or consider increasing regularisation. Duality gap: 1.535e+10, tolerance: 9.951e+06\n",
            "  model = cd_fast.enet_coordinate_descent(\n"
          ]
        }
      ]
    }
  ]
}